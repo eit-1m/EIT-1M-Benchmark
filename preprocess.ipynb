{
 "cells": [
  {
   "cell_type": "code",
   "execution_count": null,
   "metadata": {},
   "outputs": [],
   "source": [
    "import mne\n",
    "import numpy as np\n",
    "import os\n",
    "\n",
    "\n",
    "data_root = \"YOUR_DATA_ROOT\"\n",
    "output_root = \"YOUR_OUTPUT_ROOT\"\n",
    "\n",
    "for class_name in ['airplane', 'automobile', 'bird', 'cat', 'deer', 'dog', 'frog', 'horse', 'ship', 'truck']:\n",
    "    for split in ['train', 'test']:\n",
    "        vhdr_file_path = f'{data_root}/{class_name}_{split}.vhdr'\n",
    "        print(vhdr_file_path)\n",
    "        # Load the data\n",
    "        raw = mne.io.read_raw_brainvision(vhdr_file_path, preload=True)\n",
    "        print(raw.info)\n",
    "\n",
    "        # Apply a band-pass filter\n",
    "        raw.filter(l_freq=1.0, h_freq=40.0)  # Filters the data to keep frequencies between 1 and 40 Hz\n",
    "\n",
    "        # Extract events\n",
    "        events, event_id = mne.events_from_annotations(raw)\n",
    "\n",
    "        # Define epochs parameters: tmin and tmax are the start and end times relative to each event\n",
    "        tmin, tmax = -0.05, 0.05  # seconds\n",
    "\n",
    "        # Create epochs\n",
    "        epochs = mne.Epochs(raw, events, event_id=event_id, tmin=tmin, tmax=tmax, preload=True)\n",
    "\n",
    "        data = epochs.get_data()\n",
    "        for i, epoch_data in enumerate(data):\n",
    "            filename = f'{output_root}/{split}/{class_name}/epoch_{i+1}_eventid_{epochs.events[i, 2]}.npy'\n",
    "            if not os.path.exists(f'{output_root}/{split}/{class_name}'):\n",
    "                os.makedirs(f'{output_root}/{split}/{class_name}')\n",
    "            np.save(filename, epoch_data)\n",
    "\n",
    "            print(f'Saved {filename}')\n",
    "\n"
   ]
  }
 ],
 "metadata": {
  "kernelspec": {
   "display_name": "omni",
   "language": "python",
   "name": "python3"
  },
  "language_info": {
   "codemirror_mode": {
    "name": "ipython",
    "version": 3
   },
   "file_extension": ".py",
   "mimetype": "text/x-python",
   "name": "python",
   "nbconvert_exporter": "python",
   "pygments_lexer": "ipython3",
   "version": "3.9.19"
  }
 },
 "nbformat": 4,
 "nbformat_minor": 2
}
